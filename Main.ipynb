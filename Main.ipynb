{
 "cells": [
  {
   "cell_type": "code",
   "execution_count": 60,
   "metadata": {
    "id": "xpx8anWaspz4"
   },
   "outputs": [],
   "source": [
    "import numpy as np\n",
    "import pandas as pd\n",
    "import matplotlib.pyplot as plt\n",
    "import math\n",
    "from sklearn.preprocessing import LabelEncoder"
   ]
  },
  {
   "cell_type": "code",
   "execution_count": 61,
   "metadata": {
    "id": "BDyA_NR6_KVV"
   },
   "outputs": [
    {
     "data": {
      "text/html": [
       "<div>\n",
       "<style scoped>\n",
       "    .dataframe tbody tr th:only-of-type {\n",
       "        vertical-align: middle;\n",
       "    }\n",
       "\n",
       "    .dataframe tbody tr th {\n",
       "        vertical-align: top;\n",
       "    }\n",
       "\n",
       "    .dataframe thead th {\n",
       "        text-align: right;\n",
       "    }\n",
       "</style>\n",
       "<table border=\"1\" class=\"dataframe\">\n",
       "  <thead>\n",
       "    <tr style=\"text-align: right;\">\n",
       "      <th></th>\n",
       "      <th>PassengerId</th>\n",
       "      <th>Pclass</th>\n",
       "      <th>Name</th>\n",
       "      <th>Sex</th>\n",
       "      <th>Age</th>\n",
       "      <th>SibSp</th>\n",
       "      <th>Parch</th>\n",
       "      <th>Ticket</th>\n",
       "      <th>Fare</th>\n",
       "      <th>Embarked</th>\n",
       "    </tr>\n",
       "  </thead>\n",
       "  <tbody>\n",
       "    <tr>\n",
       "      <th>0</th>\n",
       "      <td>892</td>\n",
       "      <td>3</td>\n",
       "      <td>Kelly, Mr. James</td>\n",
       "      <td>male</td>\n",
       "      <td>34.5</td>\n",
       "      <td>0</td>\n",
       "      <td>0</td>\n",
       "      <td>330911</td>\n",
       "      <td>7.8292</td>\n",
       "      <td>Q</td>\n",
       "    </tr>\n",
       "    <tr>\n",
       "      <th>1</th>\n",
       "      <td>893</td>\n",
       "      <td>3</td>\n",
       "      <td>Wilkes, Mrs. James (Ellen Needs)</td>\n",
       "      <td>female</td>\n",
       "      <td>47.0</td>\n",
       "      <td>1</td>\n",
       "      <td>0</td>\n",
       "      <td>363272</td>\n",
       "      <td>7.0000</td>\n",
       "      <td>S</td>\n",
       "    </tr>\n",
       "    <tr>\n",
       "      <th>2</th>\n",
       "      <td>894</td>\n",
       "      <td>2</td>\n",
       "      <td>Myles, Mr. Thomas Francis</td>\n",
       "      <td>male</td>\n",
       "      <td>62.0</td>\n",
       "      <td>0</td>\n",
       "      <td>0</td>\n",
       "      <td>240276</td>\n",
       "      <td>9.6875</td>\n",
       "      <td>Q</td>\n",
       "    </tr>\n",
       "    <tr>\n",
       "      <th>3</th>\n",
       "      <td>895</td>\n",
       "      <td>3</td>\n",
       "      <td>Wirz, Mr. Albert</td>\n",
       "      <td>male</td>\n",
       "      <td>27.0</td>\n",
       "      <td>0</td>\n",
       "      <td>0</td>\n",
       "      <td>315154</td>\n",
       "      <td>8.6625</td>\n",
       "      <td>S</td>\n",
       "    </tr>\n",
       "    <tr>\n",
       "      <th>4</th>\n",
       "      <td>896</td>\n",
       "      <td>3</td>\n",
       "      <td>Hirvonen, Mrs. Alexander (Helga E Lindqvist)</td>\n",
       "      <td>female</td>\n",
       "      <td>22.0</td>\n",
       "      <td>1</td>\n",
       "      <td>1</td>\n",
       "      <td>3101298</td>\n",
       "      <td>12.2875</td>\n",
       "      <td>S</td>\n",
       "    </tr>\n",
       "    <tr>\n",
       "      <th>...</th>\n",
       "      <td>...</td>\n",
       "      <td>...</td>\n",
       "      <td>...</td>\n",
       "      <td>...</td>\n",
       "      <td>...</td>\n",
       "      <td>...</td>\n",
       "      <td>...</td>\n",
       "      <td>...</td>\n",
       "      <td>...</td>\n",
       "      <td>...</td>\n",
       "    </tr>\n",
       "    <tr>\n",
       "      <th>413</th>\n",
       "      <td>1305</td>\n",
       "      <td>3</td>\n",
       "      <td>Spector, Mr. Woolf</td>\n",
       "      <td>male</td>\n",
       "      <td>0.0</td>\n",
       "      <td>0</td>\n",
       "      <td>0</td>\n",
       "      <td>A.5. 3236</td>\n",
       "      <td>8.0500</td>\n",
       "      <td>S</td>\n",
       "    </tr>\n",
       "    <tr>\n",
       "      <th>414</th>\n",
       "      <td>1306</td>\n",
       "      <td>1</td>\n",
       "      <td>Oliva y Ocana, Dona. Fermina</td>\n",
       "      <td>female</td>\n",
       "      <td>39.0</td>\n",
       "      <td>0</td>\n",
       "      <td>0</td>\n",
       "      <td>PC 17758</td>\n",
       "      <td>108.9000</td>\n",
       "      <td>C</td>\n",
       "    </tr>\n",
       "    <tr>\n",
       "      <th>415</th>\n",
       "      <td>1307</td>\n",
       "      <td>3</td>\n",
       "      <td>Saether, Mr. Simon Sivertsen</td>\n",
       "      <td>male</td>\n",
       "      <td>38.5</td>\n",
       "      <td>0</td>\n",
       "      <td>0</td>\n",
       "      <td>SOTON/O.Q. 3101262</td>\n",
       "      <td>7.2500</td>\n",
       "      <td>S</td>\n",
       "    </tr>\n",
       "    <tr>\n",
       "      <th>416</th>\n",
       "      <td>1308</td>\n",
       "      <td>3</td>\n",
       "      <td>Ware, Mr. Frederick</td>\n",
       "      <td>male</td>\n",
       "      <td>0.0</td>\n",
       "      <td>0</td>\n",
       "      <td>0</td>\n",
       "      <td>359309</td>\n",
       "      <td>8.0500</td>\n",
       "      <td>S</td>\n",
       "    </tr>\n",
       "    <tr>\n",
       "      <th>417</th>\n",
       "      <td>1309</td>\n",
       "      <td>3</td>\n",
       "      <td>Peter, Master. Michael J</td>\n",
       "      <td>male</td>\n",
       "      <td>0.0</td>\n",
       "      <td>1</td>\n",
       "      <td>1</td>\n",
       "      <td>2668</td>\n",
       "      <td>22.3583</td>\n",
       "      <td>C</td>\n",
       "    </tr>\n",
       "  </tbody>\n",
       "</table>\n",
       "<p>418 rows × 10 columns</p>\n",
       "</div>"
      ],
      "text/plain": [
       "     PassengerId  Pclass                                          Name  \\\n",
       "0            892       3                              Kelly, Mr. James   \n",
       "1            893       3              Wilkes, Mrs. James (Ellen Needs)   \n",
       "2            894       2                     Myles, Mr. Thomas Francis   \n",
       "3            895       3                              Wirz, Mr. Albert   \n",
       "4            896       3  Hirvonen, Mrs. Alexander (Helga E Lindqvist)   \n",
       "..           ...     ...                                           ...   \n",
       "413         1305       3                            Spector, Mr. Woolf   \n",
       "414         1306       1                  Oliva y Ocana, Dona. Fermina   \n",
       "415         1307       3                  Saether, Mr. Simon Sivertsen   \n",
       "416         1308       3                           Ware, Mr. Frederick   \n",
       "417         1309       3                      Peter, Master. Michael J   \n",
       "\n",
       "        Sex   Age  SibSp  Parch              Ticket      Fare Embarked  \n",
       "0      male  34.5      0      0              330911    7.8292        Q  \n",
       "1    female  47.0      1      0              363272    7.0000        S  \n",
       "2      male  62.0      0      0              240276    9.6875        Q  \n",
       "3      male  27.0      0      0              315154    8.6625        S  \n",
       "4    female  22.0      1      1             3101298   12.2875        S  \n",
       "..      ...   ...    ...    ...                 ...       ...      ...  \n",
       "413    male   0.0      0      0           A.5. 3236    8.0500        S  \n",
       "414  female  39.0      0      0            PC 17758  108.9000        C  \n",
       "415    male  38.5      0      0  SOTON/O.Q. 3101262    7.2500        S  \n",
       "416    male   0.0      0      0              359309    8.0500        S  \n",
       "417    male   0.0      1      1                2668   22.3583        C  \n",
       "\n",
       "[418 rows x 10 columns]"
      ]
     },
     "execution_count": 61,
     "metadata": {},
     "output_type": "execute_result"
    }
   ],
   "source": [
    "# Load dataset\n",
    "data_train  = pd.read_csv(\"Dataset/train.csv\")\n",
    "data_test   = pd.read_csv(\"Dataset/test.csv\")\n",
    "data_train  = data_train[[\"PassengerId\",\"Survived\",\"Pclass\",\"Name\",\n",
    "                          \"Sex\",\"Age\",\"SibSp\",\"Parch\",\n",
    "                          \"Ticket\",\"Fare\",\"Embarked\"]]\n",
    "data_test   = data_test[[\"PassengerId\",\"Pclass\",\"Name\",\n",
    "                          \"Sex\",\"Age\",\"SibSp\",\"Parch\",\n",
    "                          \"Ticket\",\"Fare\",\"Embarked\"]]\n",
    "data_train.fillna(0)\n",
    "data_test.fillna(0)"
   ]
  },
  {
   "cell_type": "code",
   "execution_count": 62,
   "metadata": {},
   "outputs": [],
   "source": [
    "x_train     = data_train[[\"Sex\",\"Age\",\"SibSp\",\"Parch\",\n",
    "                          \"Fare\",\"Embarked\"]].values\n",
    "y_train     = data_train[[\"Survived\"]].values\n",
    "row,coloumn = x_train.shape"
   ]
  },
  {
   "cell_type": "code",
   "execution_count": 63,
   "metadata": {
    "colab": {
     "base_uri": "https://localhost:8080/"
    },
    "id": "m7AKNqh6Bxv1",
    "outputId": "7fe43c84-48aa-4f92-f9bc-7d7e15435450"
   },
   "outputs": [
    {
     "name": "stderr",
     "output_type": "stream",
     "text": [
      "C:\\Python3_7\\lib\\site-packages\\sklearn\\utils\\validation.py:63: DataConversionWarning: A column-vector y was passed when a 1d array was expected. Please change the shape of y to (n_samples, ), for example using ravel().\n",
      "  return f(*args, **kwargs)\n"
     ]
    }
   ],
   "source": [
    "# Encoding\n",
    "# x\n",
    "for i in range(coloumn):\n",
    "    x_train[: , i] = LabelEncoder().fit_transform(x_train[:,i])\n",
    "# y\n",
    "y_train            = LabelEncoder().fit_transform(y_train)"
   ]
  },
  {
   "cell_type": "code",
   "execution_count": 64,
   "metadata": {
    "colab": {
     "base_uri": "https://localhost:8080/"
    },
    "id": "w3Q7et2iQ5B8",
    "outputId": "c6dd5c5e-b7b2-4cf3-d981-0514f39815cb"
   },
   "outputs": [
    {
     "name": "stdout",
     "output_type": "stream",
     "text": [
      "[1, 88, 6, 6, 247, 3]\n",
      "[0, 0, 0, 0, 0, 0]\n"
     ]
    }
   ],
   "source": [
    "# Normalize X\n",
    "maxx = []\n",
    "minn = []\n",
    "for i in range(coloumn):\n",
    "    maxx.append(np.max(x_train[:,i]))\n",
    "    minn.append(np.min(x_train[:,i]))\n",
    "print(maxx)\n",
    "print(minn)"
   ]
  },
  {
   "cell_type": "code",
   "execution_count": 65,
   "metadata": {
    "id": "u5vxYzi9rZWX"
   },
   "outputs": [],
   "source": [
    "# Normalize X\n",
    "for i in range(coloumn):  \n",
    "    for j in range(row):\n",
    "        x_train[j , i] = (x_train[j , i]- minn[i])/(maxx[i]-minn[i])"
   ]
  },
  {
   "cell_type": "code",
   "execution_count": 66,
   "metadata": {
    "colab": {
     "base_uri": "https://localhost:8080/"
    },
    "id": "M7huEIX3rjcV",
    "outputId": "8f4c0989-9b33-498b-8c5e-83ebf196c92c"
   },
   "outputs": [
    {
     "data": {
      "text/plain": [
       "array([[1.0, 0.3181818181818182, 0.16666666666666666, 0.0,\n",
       "        0.0728744939271255, 0.6666666666666666],\n",
       "       [0.0, 0.5795454545454546, 0.16666666666666666, 0.0,\n",
       "        0.8380566801619433, 0.0],\n",
       "       [0.0, 0.38636363636363635, 0.0, 0.0, 0.1659919028340081,\n",
       "        0.6666666666666666],\n",
       "       ...,\n",
       "       [0.0, 1.0, 0.16666666666666666, 0.3333333333333333,\n",
       "        0.5303643724696356, 0.6666666666666666],\n",
       "       [1.0, 0.38636363636363635, 0.0, 0.0, 0.6194331983805668, 0.0],\n",
       "       [1.0, 0.4772727272727273, 0.0, 0.0, 0.1214574898785425,\n",
       "        0.3333333333333333]], dtype=object)"
      ]
     },
     "execution_count": 66,
     "metadata": {},
     "output_type": "execute_result"
    }
   ],
   "source": [
    "x_train"
   ]
  },
  {
   "cell_type": "code",
   "execution_count": 67,
   "metadata": {
    "id": "efHmRmPW-wao"
   },
   "outputs": [],
   "source": [
    "# Function\n",
    "def sigmoid(x):\n",
    "    return 1/(1+np.exp(-x))\n",
    "sig = np.vectorize(sigmoid)"
   ]
  },
  {
   "cell_type": "code",
   "execution_count": 68,
   "metadata": {
    "id": "kt5-NL4qqiZD"
   },
   "outputs": [],
   "source": [
    "#-------------------------------------\n",
    "#- inisiasi\n",
    "\n",
    "input       = x_train\n",
    "target      = y_train\n",
    "num_input   = 6\n",
    "net_hidden1 = 12\n",
    "net_hidden2 = 24\n",
    "num_output  = 1\n",
    "\n",
    "#Input-->Hidden Layer1\n",
    "w_hidden1 = np.random.uniform(low=-0.5, high=0.5, size=(num_input,net_hidden1))\n",
    "b_hidden1 = np.random.uniform(low=-0.5, high=0.5, size=(net_hidden1))\n",
    "#Hidden Layer1-->Hidden Layer2\n",
    "w_hidden2 = np.random.uniform(low=-0.5, high=0.5, size=(net_hidden1,net_hidden2))\n",
    "b_hidden2 = np.random.uniform(low=-0.5, high=0.5, size=(net_hidden2))\n",
    "#Hidden Layer2-->Output\n",
    "w_output = np.random.uniform(low=-0.5, high=0.5, size=(net_hidden2,num_output))\n",
    "b_output = np.random.uniform(low=-0.5, high=0.5, size=(num_output))\n",
    "\n",
    "# Loss dan Akurasi\n",
    "loss_values = []\n",
    "acc_values  = []\n",
    "\n",
    "lr     = 0.5\n",
    "epochs = 5"
   ]
  },
  {
   "cell_type": "code",
   "execution_count": 69,
   "metadata": {
    "colab": {
     "base_uri": "https://localhost:8080/"
    },
    "id": "bvFlVTRi3BUl",
    "outputId": "222d7e54-7022-4b9c-e028-99af2154b802"
   },
   "outputs": [
    {
     "name": "stdout",
     "output_type": "stream",
     "text": [
      "(6, 12)\n",
      "(12, 24)\n",
      "(24, 1)\n"
     ]
    }
   ],
   "source": [
    "print(w_hidden1.shape)\n",
    "print(w_hidden2.shape)\n",
    "print(w_output.shape)"
   ]
  },
  {
   "cell_type": "code",
   "execution_count": 70,
   "metadata": {
    "colab": {
     "base_uri": "https://localhost:8080/"
    },
    "id": "F9F3kurWvKtX",
    "outputId": "51dd8480-414c-458c-86d6-d9cf1f82a0ad"
   },
   "outputs": [
    {
     "name": "stdout",
     "output_type": "stream",
     "text": [
      "epoch :  0  | error :  [0.19133838]  | acc :  0.7261503928170595\n",
      "epoch :  1  | error :  [0.16416043]  | acc :  0.7833894500561167\n",
      "epoch :  2  | error :  [0.16009824]  | acc :  0.7811447811447811\n",
      "epoch :  3  | error :  [0.15812611]  | acc :  0.7856341189674523\n",
      "epoch :  4  | error :  [0.15658444]  | acc :  0.7822671156004489\n"
     ]
    }
   ],
   "source": [
    "list_w_hidden1 = []\n",
    "list_w_hidden2 = []\n",
    "list_w_output  = []\n",
    "list_b_hidden1 = []\n",
    "list_b_hidden2 = []\n",
    "list_b_output  = []\n",
    "\n",
    "for epoch in range(epochs):\n",
    "    MSE = 0\n",
    "    new_target = np.zeros(len(target))\n",
    "    for idx, inp in enumerate(input):\n",
    "        # A. Feedforward\n",
    "        # Hidden Layer1\n",
    "        o_hidden1 = np.matmul(input[idx], w_hidden1) + b_hidden1\n",
    "        o_hidden1 = sig(o_hidden1)\n",
    "        # Hidden Layer2\n",
    "        o_hidden2 = np.matmul(o_hidden1, w_hidden2) + b_hidden2\n",
    "        o_hidden2 = sig(o_hidden2)\n",
    "        # Outpur Layer\n",
    "        o_output  = np.matmul(o_hidden2, w_output) + b_output\n",
    "        o_output  = sig(o_output)\n",
    "        # Menghitung Error\n",
    "        error           = target[idx] - o_output\n",
    "        MSE             = MSE + (error*error)\n",
    "        new_target[idx] = o_output.round()\n",
    "        # Error hidden2->output\n",
    "        eh2             = error @ w_output.T\n",
    "        # Error hidden1->output \n",
    "        eh1             = eh2   @ w_hidden2.T\n",
    "        # B. Backpropagation\n",
    "        # Outpur Layer\n",
    "        w_output = w_output + (lr * ((error * o_output * (1 - o_output))* o_hidden2[np.newaxis].T))\n",
    "        b_output = b_output + (lr * ((error * o_output * (1 - o_output))))\n",
    "        # Hidden Layer2\n",
    "        w_hidden2 = w_hidden2 + (lr * (eh2 * o_hidden2 * (1 - o_hidden2))* o_hidden1[np.newaxis].T)\n",
    "        b_hidden2 = b_hidden2 + (lr * (eh2 * o_hidden2 * (1 - o_hidden2)))\n",
    "        # Hidden Layer1\n",
    "        w_hidden1 = w_hidden1 + (lr * (eh1 * o_hidden1 * (1 - o_hidden1))* input[idx][np.newaxis].T)\n",
    "        b_hidden1 = b_hidden1 + (lr * (eh1 * o_hidden1 * (1 - o_hidden1)))\n",
    "        \n",
    "    MSE = MSE/len(target)\n",
    "    acc = 1 - (np.sum(np.absolute(target-new_target))/len(target))\n",
    "    loss_values.append(MSE)\n",
    "    acc_values.append(acc)\n",
    "    list_w_hidden1.append(w_hidden1)\n",
    "    list_w_hidden2.append(w_hidden2)\n",
    "    list_w_output.append(w_output)\n",
    "    list_b_hidden1.append(b_hidden1)\n",
    "    list_b_hidden2.append(b_hidden2)\n",
    "    list_b_output.append(b_output)\n",
    "    print(\"epoch : \",epoch,\" | error : \",MSE,\" | acc : \",acc)\n",
    "\n",
    "acc_max   = max(acc_values)\n",
    "index_max = acc_values.index(acc_max)\n",
    "w_hidden1 = list_w_hidden1[index_max]\n",
    "w_hidden2 = list_w_hidden2[index_max]\n",
    "w_output  = list_w_output[index_max]\n",
    "b_hidden1 = list_b_hidden1[index_max]\n",
    "b_hidden2 = list_b_hidden2[index_max]\n",
    "b_output  = list_b_output[index_max]"
   ]
  },
  {
   "cell_type": "code",
   "execution_count": 71,
   "metadata": {
    "colab": {
     "base_uri": "https://localhost:8080/",
     "height": 545
    },
    "id": "mAUsajPMHhpL",
    "outputId": "783adea5-0207-4bf5-8e85-f94f7f1c871d"
   },
   "outputs": [
    {
     "data": {
      "image/png": "[encoded data removed]",
      "text/plain": [
       "<Figure size 432x288 with 1 Axes>"
      ]
     },
     "metadata": {
      "needs_background": "light"
     },
     "output_type": "display_data"
    },
    {
     "data": {
      "image/png": "[encoded data removed]",
      "text/plain": [
       "<Figure size 432x288 with 1 Axes>"
      ]
     },
     "metadata": {
      "needs_background": "light"
     },
     "output_type": "display_data"
    }
   ],
   "source": [
    "plot1 = plt.figure(1)\n",
    "plt.plot(loss_values)\n",
    "plt.title(\"Loss Values\")\n",
    "plt.show()\n",
    "\n",
    "plot2 = plt.figure(2)\n",
    "plt.plot(acc_values)\n",
    "plt.title(\"Accuracy Values\")\n",
    "plt.show()"
   ]
  },
  {
   "cell_type": "code",
   "execution_count": 72,
   "metadata": {
    "id": "Vs4IacSMH2FB"
   },
   "outputs": [],
   "source": [
    "def predict(data):\n",
    "    HasilPredict = []\n",
    "    for i in data:\n",
    "      # Hidden Layer1\n",
    "      o_hidden1 = np.matmul(i, w_hidden1) + b_hidden1\n",
    "      o_hidden1 = sig(o_hidden1)\n",
    "      # Hidden Layer2\n",
    "      o_hidden2 = np.matmul(o_hidden1, w_hidden2) + b_hidden2\n",
    "      o_hidden2 = sig(o_hidden2)\n",
    "      # Outpur Layer\n",
    "      o_output  = np.matmul(o_hidden2, w_output) + b_output\n",
    "      o_output  = sig(o_output)\n",
    "      HasilPredict.append(round(float(o_output)))\n",
    "    return HasilPredict"
   ]
  },
  {
   "cell_type": "code",
   "execution_count": 73,
   "metadata": {
    "colab": {
     "base_uri": "https://localhost:8080/"
    },
    "id": "-YIW8tu0OA3o",
    "outputId": "52334ee5-afba-458f-c53b-0e44a424255a"
   },
   "outputs": [
    {
     "name": "stdout",
     "output_type": "stream",
     "text": [
      "[0]\n",
      "Result : 0\n"
     ]
    }
   ],
   "source": [
    "prediksi = predict([x_train[4]])\n",
    "print(prediksi)\n",
    "#e is 0\n",
    "#p is 1\n",
    "for i in prediksi :\n",
    "  if i == 1 :\n",
    "    print('Result : 1')\n",
    "  elif i == 0 :\n",
    "    print('Result : 0')"
   ]
  },
  {
   "cell_type": "code",
   "execution_count": 74,
   "metadata": {
    "colab": {
     "base_uri": "https://localhost:8080/",
     "height": 490
    },
    "id": "KpkIPhxc6E2A",
    "outputId": "2838ac91-331b-44eb-fc54-552590d4a296"
   },
   "outputs": [
    {
     "data": {
      "text/html": [
       "<div>\n",
       "<style scoped>\n",
       "    .dataframe tbody tr th:only-of-type {\n",
       "        vertical-align: middle;\n",
       "    }\n",
       "\n",
       "    .dataframe tbody tr th {\n",
       "        vertical-align: top;\n",
       "    }\n",
       "\n",
       "    .dataframe thead th {\n",
       "        text-align: right;\n",
       "    }\n",
       "</style>\n",
       "<table border=\"1\" class=\"dataframe\">\n",
       "  <thead>\n",
       "    <tr style=\"text-align: right;\">\n",
       "      <th></th>\n",
       "      <th>PassengerId</th>\n",
       "      <th>Survived</th>\n",
       "      <th>Pclass</th>\n",
       "      <th>Name</th>\n",
       "      <th>Sex</th>\n",
       "      <th>Age</th>\n",
       "      <th>SibSp</th>\n",
       "      <th>Parch</th>\n",
       "      <th>Ticket</th>\n",
       "      <th>Fare</th>\n",
       "      <th>Embarked</th>\n",
       "    </tr>\n",
       "  </thead>\n",
       "  <tbody>\n",
       "    <tr>\n",
       "      <th>0</th>\n",
       "      <td>1</td>\n",
       "      <td>0</td>\n",
       "      <td>3</td>\n",
       "      <td>Braund, Mr. Owen Harris</td>\n",
       "      <td>male</td>\n",
       "      <td>22.0</td>\n",
       "      <td>1</td>\n",
       "      <td>0</td>\n",
       "      <td>A/5 21171</td>\n",
       "      <td>7.2500</td>\n",
       "      <td>S</td>\n",
       "    </tr>\n",
       "    <tr>\n",
       "      <th>1</th>\n",
       "      <td>2</td>\n",
       "      <td>1</td>\n",
       "      <td>1</td>\n",
       "      <td>Cumings, Mrs. John Bradley (Florence Briggs Th...</td>\n",
       "      <td>female</td>\n",
       "      <td>38.0</td>\n",
       "      <td>1</td>\n",
       "      <td>0</td>\n",
       "      <td>PC 17599</td>\n",
       "      <td>71.2833</td>\n",
       "      <td>C</td>\n",
       "    </tr>\n",
       "    <tr>\n",
       "      <th>2</th>\n",
       "      <td>3</td>\n",
       "      <td>1</td>\n",
       "      <td>3</td>\n",
       "      <td>Heikkinen, Miss. Laina</td>\n",
       "      <td>female</td>\n",
       "      <td>26.0</td>\n",
       "      <td>0</td>\n",
       "      <td>0</td>\n",
       "      <td>STON/O2. 3101282</td>\n",
       "      <td>7.9250</td>\n",
       "      <td>S</td>\n",
       "    </tr>\n",
       "    <tr>\n",
       "      <th>3</th>\n",
       "      <td>4</td>\n",
       "      <td>1</td>\n",
       "      <td>1</td>\n",
       "      <td>Futrelle, Mrs. Jacques Heath (Lily May Peel)</td>\n",
       "      <td>female</td>\n",
       "      <td>35.0</td>\n",
       "      <td>1</td>\n",
       "      <td>0</td>\n",
       "      <td>113803</td>\n",
       "      <td>53.1000</td>\n",
       "      <td>S</td>\n",
       "    </tr>\n",
       "    <tr>\n",
       "      <th>4</th>\n",
       "      <td>5</td>\n",
       "      <td>0</td>\n",
       "      <td>3</td>\n",
       "      <td>Allen, Mr. William Henry</td>\n",
       "      <td>male</td>\n",
       "      <td>35.0</td>\n",
       "      <td>0</td>\n",
       "      <td>0</td>\n",
       "      <td>373450</td>\n",
       "      <td>8.0500</td>\n",
       "      <td>S</td>\n",
       "    </tr>\n",
       "    <tr>\n",
       "      <th>...</th>\n",
       "      <td>...</td>\n",
       "      <td>...</td>\n",
       "      <td>...</td>\n",
       "      <td>...</td>\n",
       "      <td>...</td>\n",
       "      <td>...</td>\n",
       "      <td>...</td>\n",
       "      <td>...</td>\n",
       "      <td>...</td>\n",
       "      <td>...</td>\n",
       "      <td>...</td>\n",
       "    </tr>\n",
       "    <tr>\n",
       "      <th>886</th>\n",
       "      <td>887</td>\n",
       "      <td>0</td>\n",
       "      <td>2</td>\n",
       "      <td>Montvila, Rev. Juozas</td>\n",
       "      <td>male</td>\n",
       "      <td>27.0</td>\n",
       "      <td>0</td>\n",
       "      <td>0</td>\n",
       "      <td>211536</td>\n",
       "      <td>13.0000</td>\n",
       "      <td>S</td>\n",
       "    </tr>\n",
       "    <tr>\n",
       "      <th>887</th>\n",
       "      <td>888</td>\n",
       "      <td>1</td>\n",
       "      <td>1</td>\n",
       "      <td>Graham, Miss. Margaret Edith</td>\n",
       "      <td>female</td>\n",
       "      <td>19.0</td>\n",
       "      <td>0</td>\n",
       "      <td>0</td>\n",
       "      <td>112053</td>\n",
       "      <td>30.0000</td>\n",
       "      <td>S</td>\n",
       "    </tr>\n",
       "    <tr>\n",
       "      <th>888</th>\n",
       "      <td>889</td>\n",
       "      <td>0</td>\n",
       "      <td>3</td>\n",
       "      <td>Johnston, Miss. Catherine Helen \"Carrie\"</td>\n",
       "      <td>female</td>\n",
       "      <td>NaN</td>\n",
       "      <td>1</td>\n",
       "      <td>2</td>\n",
       "      <td>W./C. 6607</td>\n",
       "      <td>23.4500</td>\n",
       "      <td>S</td>\n",
       "    </tr>\n",
       "    <tr>\n",
       "      <th>889</th>\n",
       "      <td>890</td>\n",
       "      <td>1</td>\n",
       "      <td>1</td>\n",
       "      <td>Behr, Mr. Karl Howell</td>\n",
       "      <td>male</td>\n",
       "      <td>26.0</td>\n",
       "      <td>0</td>\n",
       "      <td>0</td>\n",
       "      <td>111369</td>\n",
       "      <td>30.0000</td>\n",
       "      <td>C</td>\n",
       "    </tr>\n",
       "    <tr>\n",
       "      <th>890</th>\n",
       "      <td>891</td>\n",
       "      <td>0</td>\n",
       "      <td>3</td>\n",
       "      <td>Dooley, Mr. Patrick</td>\n",
       "      <td>male</td>\n",
       "      <td>32.0</td>\n",
       "      <td>0</td>\n",
       "      <td>0</td>\n",
       "      <td>370376</td>\n",
       "      <td>7.7500</td>\n",
       "      <td>Q</td>\n",
       "    </tr>\n",
       "  </tbody>\n",
       "</table>\n",
       "<p>891 rows × 11 columns</p>\n",
       "</div>"
      ],
      "text/plain": [
       "     PassengerId  Survived  Pclass  \\\n",
       "0              1         0       3   \n",
       "1              2         1       1   \n",
       "2              3         1       3   \n",
       "3              4         1       1   \n",
       "4              5         0       3   \n",
       "..           ...       ...     ...   \n",
       "886          887         0       2   \n",
       "887          888         1       1   \n",
       "888          889         0       3   \n",
       "889          890         1       1   \n",
       "890          891         0       3   \n",
       "\n",
       "                                                  Name     Sex   Age  SibSp  \\\n",
       "0                              Braund, Mr. Owen Harris    male  22.0      1   \n",
       "1    Cumings, Mrs. John Bradley (Florence Briggs Th...  female  38.0      1   \n",
       "2                               Heikkinen, Miss. Laina  female  26.0      0   \n",
       "3         Futrelle, Mrs. Jacques Heath (Lily May Peel)  female  35.0      1   \n",
       "4                             Allen, Mr. William Henry    male  35.0      0   \n",
       "..                                                 ...     ...   ...    ...   \n",
       "886                              Montvila, Rev. Juozas    male  27.0      0   \n",
       "887                       Graham, Miss. Margaret Edith  female  19.0      0   \n",
       "888           Johnston, Miss. Catherine Helen \"Carrie\"  female   NaN      1   \n",
       "889                              Behr, Mr. Karl Howell    male  26.0      0   \n",
       "890                                Dooley, Mr. Patrick    male  32.0      0   \n",
       "\n",
       "     Parch            Ticket     Fare Embarked  \n",
       "0        0         A/5 21171   7.2500        S  \n",
       "1        0          PC 17599  71.2833        C  \n",
       "2        0  STON/O2. 3101282   7.9250        S  \n",
       "3        0            113803  53.1000        S  \n",
       "4        0            373450   8.0500        S  \n",
       "..     ...               ...      ...      ...  \n",
       "886      0            211536  13.0000        S  \n",
       "887      0            112053  30.0000        S  \n",
       "888      2        W./C. 6607  23.4500        S  \n",
       "889      0            111369  30.0000        C  \n",
       "890      0            370376   7.7500        Q  \n",
       "\n",
       "[891 rows x 11 columns]"
      ]
     },
     "execution_count": 74,
     "metadata": {},
     "output_type": "execute_result"
    }
   ],
   "source": [
    "data_train"
   ]
  },
  {
   "cell_type": "code",
   "execution_count": 78,
   "metadata": {},
   "outputs": [
    {
     "name": "stderr",
     "output_type": "stream",
     "text": [
      "Exception in Tkinter callback\n",
      "Traceback (most recent call last):\n",
      "  File \"C:\\Python3_7\\lib\\tkinter\\__init__.py\", line 1705, in __call__\n",
      "    return self.func(*args)\n",
      "  File \"<ipython-input-78-c1528a715283>\", line 32, in select\n",
      "    value1 = self.cb1.get()-minn[0]/(maxx[0]-minn[0])\n",
      "TypeError: unsupported operand type(s) for -: 'str' and 'float'\n"
     ]
    }
   ],
   "source": [
    "from tkinter import *\n",
    "from tkinter.ttk import Combobox\n",
    "from tkinter import messagebox\n",
    "\n",
    "\n",
    "class Test:\n",
    "    def __init__(self, tk):\n",
    "        self.var = StringVar()\n",
    "        self.data = (0, 1)\n",
    "        self.lb0 = Label(tk,  text = 'MULTILAYER PERCEPTRON PREDIKSI KESELAMATAN PENUMPANG TITANIC',\n",
    "                         font = (\"Times\",12)).place(x=15,y=0)\n",
    "        self.lb1 = Label(tk,  text = 'Sex',font = (\"Times\",9)).place(x=5,y=50)\n",
    "        self.lb2 = Label(tk,  text = 'Age',font = (\"Times\",9)).place(x=5,y=75)\n",
    "        self.lb3 = Label(tk,  text = 'SibSp',font = (\"Times\",9)).place(x=5,y=100)\n",
    "        self.lb4 = Label(tk,  text = 'Parch',font = (\"Times\",9)).place(x=5,y=125)\n",
    "        self.lb5 = Label(tk,  text = 'Fare',font = (\"Times\",9)).place(x=5,y=150)\n",
    "        self.lb6 = Label(tk,  text = 'Embarked',font = (\"Times\",9)).place(x=5,y=175)\n",
    "        #---------------------------------------------------------------------------------------------\n",
    "        self.cb1 = Combobox(tk, values=self.data,font = (\"Times\",9), width=17)\n",
    "        self.cb1.place(x=80, y=50)\n",
    "        self.e2  = Entry(tk,font = (\"Times\",9) ).place(x=80,y=75)\n",
    "        self.e3  = Entry(tk,font = (\"Times\",9) ).place(x=80,y=100)\n",
    "        self.e4  = Entry(tk,font = (\"Times\",9) ).place(x=80,y=125)\n",
    "        self.e5  = Entry(tk,font = (\"Times\",9) ).place(x=80,y=150)\n",
    "        self.e6  = Entry(tk,font = (\"Times\",9) ).place(x=80,y=175)\n",
    "        #---------------------------------------------------------------------------------------------\n",
    "        self.b1  = Button(tk, text=\"Prediksi\", command=self.select).place(x=300, y=250, anchor=CENTER)\n",
    "        self.lb7 = Label(tk,  text = 'Hasil').place(x=300, y=300, anchor=CENTER)\n",
    "        \n",
    "    def select(self):\n",
    "        data   = []\n",
    "        value1 = (float(self.cb1.get())-minn[0])/(maxx[0]-minn[0])\n",
    "        #messagebox.showinfo(\"Warn\", \"You selected \" + value)\n",
    "        value2 = (float(self.e2.get())-minn[1])/(maxx[1]-minn[1])\n",
    "        value3 = (float(self.e3.get())-minn[2])/(maxx[2]-minn[2])\n",
    "        value4 = (float(self.e4.get())-minn[3])/(maxx[3]-minn[3])\n",
    "        value5 = (float(self.e5.get())-minn[4])/(maxx[4]-minn[4])\n",
    "        value6 = (float(self.e6.get())-minn[5])/(maxx[5]-minn[5])\n",
    "        data.append(value1)\n",
    "        data.append(value2)\n",
    "        data.append(value3)\n",
    "        data.append(value4)\n",
    "        data.append(value5)\n",
    "        data.append(value6)\n",
    "        HasilPredict = []\n",
    "        for i in data:\n",
    "            # Hidden Layer1\n",
    "            o_hidden1 = np.matmul(i, w_hidden1) + b_hidden1\n",
    "            o_hidden1 = sig(o_hidden1)\n",
    "            # Hidden Layer2\n",
    "            o_hidden2 = np.matmul(o_hidden1, w_hidden2) + b_hidden2\n",
    "            o_hidden2 = sig(o_hidden2)\n",
    "            # Outpur Layer\n",
    "            o_output  = np.matmul(o_hidden2, w_output) + b_output\n",
    "            o_output  = sig(o_output)\n",
    "            HasilPredict.append(round(float(o_output)))\n",
    "        for i in HasilPredict:\n",
    "            if i == 1 :\n",
    "                a = 'Selamat'\n",
    "            elif i == 0 :\n",
    "                a = 'Tewas'\n",
    "        self.lb7.config(text=a)\n",
    "tk = Tk()\n",
    "tk.geometry(\"600x350\")\n",
    "tk.title(\"MULTILAYER PERCEPTRON\")\n",
    "tt = Test(tk)\n",
    "tk.mainloop()"
   ]
  },
  {
   "cell_type": "code",
   "execution_count": null,
   "metadata": {},
   "outputs": [],
   "source": []
  }
 ],
 "metadata": {
  "colab": {
   "collapsed_sections": [],
   "name": "Main.ipynb",
   "provenance": []
  },
  "kernelspec": {
   "display_name": "Python 3",
   "language": "python",
   "name": "python3"
  },
  "language_info": {
   "codemirror_mode": {
    "name": "ipython",
    "version": 3
   },
   "file_extension": ".py",
   "mimetype": "text/x-python",
   "name": "python",
   "nbconvert_exporter": "python",
   "pygments_lexer": "ipython3",
   "version": "3.7.7"
  }
 },
 "nbformat": 4,
 "nbformat_minor": 1
}
